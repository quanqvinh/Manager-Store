{
  "nbformat": 4,
  "nbformat_minor": 0,
  "metadata": {
    "colab": {
      "provenance": [],
      "include_colab_link": true
    },
    "kernelspec": {
      "name": "python3",
      "display_name": "Python 3"
    },
    "language_info": {
      "name": "python"
    }
  },
  "cells": [
    {
      "cell_type": "markdown",
      "metadata": {
        "id": "view-in-github",
        "colab_type": "text"
      },
      "source": [
        "<a href=\"https://colab.research.google.com/github/quanqvinh/Manager-Store/blob/main/COLAB.ipynb\" target=\"_parent\"><img src=\"https://colab.research.google.com/assets/colab-badge.svg\" alt=\"Open In Colab\"/></a>"
      ]
    },
    {
      "cell_type": "code",
      "source": [
        "import pandas as pd\n",
        "import seaborn as sns\n",
        "import matplotlib.pyplot as plt\n",
        "from scipy import stats\n",
        "import statsmodels.api as sm\n",
        "from statsmodels.formula.api import ols\n",
        "from sklearn.model_selection import train_test_split\n",
        "from sklearn.linear_model import LinearRegression\n",
        "from sklearn.preprocessing import OneHotEncoder\n",
        "import statsmodels.api as sm\n",
        "\n",
        "\n",
        "\n"
      ],
      "metadata": {
        "id": "Q7ZzvkqSROjC"
      },
      "execution_count": null,
      "outputs": []
    },
    {
      "cell_type": "code",
      "source": [
        "#1 Đọc dữ liệu\n",
        "data = pd.read_csv('/content/weight_change_dataset.csv')"
      ],
      "metadata": {
        "id": "x4eA5iYURJRS"
      },
      "execution_count": null,
      "outputs": []
    },
    {
      "cell_type": "code",
      "source": [
        "print(data.head())"
      ],
      "metadata": {
        "colab": {
          "base_uri": "https://localhost:8080/"
        },
        "id": "FF208KKxStLv",
        "outputId": "3e4df41f-81dd-458d-be5b-76edcabc6a61"
      },
      "execution_count": null,
      "outputs": [
        {
          "output_type": "stream",
          "name": "stdout",
          "text": [
            "   Participant ID  Age Gender  Current Weight (lbs)  BMR (Calories)  \\\n",
            "0               1   56      M                 228.4          3102.3   \n",
            "1               2   46      F                 165.4          2275.5   \n",
            "2               3   32      F                 142.8          2119.4   \n",
            "3               4   25      F                 145.5          2181.3   \n",
            "4               5   38      M                 155.5          2463.8   \n",
            "\n",
            "   Daily Calories Consumed  Daily Caloric Surplus/Deficit  \\\n",
            "0                   3916.0                          813.7   \n",
            "1                   3823.0                         1547.5   \n",
            "2                   2785.4                          666.0   \n",
            "3                   2587.3                          406.0   \n",
            "4                   3312.8                          849.0   \n",
            "\n",
            "   Weight Change (lbs)  Duration (weeks) Physical Activity Level  \\\n",
            "0                  0.2                 1               Sedentary   \n",
            "1                  2.4                 6             Very Active   \n",
            "2                  1.4                 7               Sedentary   \n",
            "3                  0.8                 8               Sedentary   \n",
            "4                  2.0                10          Lightly Active   \n",
            "\n",
            "  Sleep Quality  Stress Level  Final Weight (lbs)  \n",
            "0     Excellent             6               228.6  \n",
            "1     Excellent             6               167.8  \n",
            "2          Good             3               144.2  \n",
            "3          Fair             2               146.3  \n",
            "4          Good             1               157.5  \n"
          ]
        }
      ]
    },
    {
      "cell_type": "code",
      "source": [
        "#2 Làm sạch dữ liệu\n",
        "print(data.isnull().sum())"
      ],
      "metadata": {
        "colab": {
          "base_uri": "https://localhost:8080/"
        },
        "id": "VaXPEzfTTpe2",
        "outputId": "83816427-c568-4a97-b7e5-e0f1a272bc0a"
      },
      "execution_count": null,
      "outputs": [
        {
          "output_type": "stream",
          "name": "stdout",
          "text": [
            "Participant ID                   0\n",
            "Age                              0\n",
            "Gender                           0\n",
            "Current Weight (lbs)             0\n",
            "BMR (Calories)                   0\n",
            "Daily Calories Consumed          0\n",
            "Daily Caloric Surplus/Deficit    0\n",
            "Weight Change (lbs)              0\n",
            "Duration (weeks)                 0\n",
            "Physical Activity Level          0\n",
            "Sleep Quality                    0\n",
            "Stress Level                     0\n",
            "Final Weight (lbs)               0\n",
            "dtype: int64\n"
          ]
        }
      ]
    },
    {
      "cell_type": "code",
      "source": [
        "#3 Làm rõ dữ liệu\n",
        "# Phân bố cân nặng thay đổi theo độ tuổi\n",
        "plt.figure(figsize=(10,6))\n",
        "sns.scatterplot(x='Age', y='Weight Change (lbs)', data=data)\n",
        "plt.title('Weight Change vs Age')\n",
        "plt.show()\n",
        "\n",
        "# Phân bố cân nặng thay đổi theo chất lượng giấc ngủ\n",
        "plt.figure(figsize=(10,6))\n",
        "sns.boxplot(x='Sleep Quality', y='Weight Change (lbs)', data=data)\n",
        "plt.title('Weight Change by Sleep Quality')\n",
        "plt.show()\n",
        "\n"
      ],
      "metadata": {
        "colab": {
          "base_uri": "https://localhost:8080/",
          "height": 1000
        },
        "id": "NbP2FLmfJ_OA",
        "outputId": "f40ed6ef-a17d-4705-ccb5-d0efc1f0b229"
      },
      "execution_count": null,
      "outputs": [
        {
          "output_type": "display_data",
          "data": {
            "text/plain": [
              "<Figure size 1000x600 with 1 Axes>"
            ],
            "image/png": "[encoded data removed]"
          },
          "metadata": {}
        },
        {
          "output_type": "display_data",
          "data": {
            "text/plain": [
              "<Figure size 1000x600 with 1 Axes>"
            ],
            "image/png": "[encoded data removed]"
          },
          "metadata": {}
        }
      ]
    },
    {
      "cell_type": "code",
      "source": [
        "#4 T-test\n",
        "group1 = data[data['Sleep Quality'] == 'Good']['Weight Change (lbs)']\n",
        "group2 = data[data['Sleep Quality'] == 'Poor']['Weight Change (lbs)']\n",
        "\n",
        "# Kiểm định t-test\n",
        "t_stat, p_val = stats.ttest_ind(group1, group2)\n",
        "print(\"T-statistic:\", t_stat)\n",
        "print(\"P-value:\", p_val)\n"
      ],
      "metadata": {
        "colab": {
          "base_uri": "https://localhost:8080/"
        },
        "id": "IA8v_b9fLmUm",
        "outputId": "d6e45e9b-f85b-4e8d-a6ee-7b01cb363d62"
      },
      "execution_count": null,
      "outputs": [
        {
          "output_type": "stream",
          "name": "stdout",
          "text": [
            "T-statistic: 4.969489741612367\n",
            "P-value: 6.273926825928779e-06\n"
          ]
        }
      ]
    },
    {
      "cell_type": "code",
      "source": [],
      "metadata": {
        "id": "QMnTJdaA33jW"
      },
      "execution_count": null,
      "outputs": []
    },
    {
      "cell_type": "code",
      "source": [
        "print(data.columns)\n"
      ],
      "metadata": {
        "colab": {
          "base_uri": "https://localhost:8080/"
        },
        "id": "x5_KHwYc3SSV",
        "outputId": "473228a4-6132-4436-c459-8064e2853ccd"
      },
      "execution_count": null,
      "outputs": [
        {
          "output_type": "stream",
          "name": "stdout",
          "text": [
            "Index(['Participant ID', 'Age', 'Gender', 'Current Weight (lbs)',\n",
            "       'BMR (Calories)', 'Daily Calories Consumed',\n",
            "       'Daily Caloric Surplus/Deficit', 'Weight Change (lbs)',\n",
            "       'Duration (weeks)', 'Physical Activity Level', 'Sleep Quality',\n",
            "       'Stress Level', 'Final Weight (lbs)'],\n",
            "      dtype='object')\n"
          ]
        }
      ]
    },
    {
      "cell_type": "code",
      "source": [
        "data = pd.get_dummies(data, columns=['Sleep Quality'], drop_first=True)"
      ],
      "metadata": {
        "id": "Qv256ohOtDOo"
      },
      "execution_count": null,
      "outputs": []
    },
    {
      "cell_type": "code",
      "source": [
        "print(data.columns)"
      ],
      "metadata": {
        "colab": {
          "base_uri": "https://localhost:8080/"
        },
        "id": "IsdNfQ-a3eWd",
        "outputId": "5b2c0e42-511f-4a0f-ef0e-4daaa8a587b8"
      },
      "execution_count": null,
      "outputs": [
        {
          "output_type": "stream",
          "name": "stdout",
          "text": [
            "Index(['Participant ID', 'Age', 'Gender', 'Current Weight (lbs)',\n",
            "       'BMR (Calories)', 'Daily Calories Consumed',\n",
            "       'Daily Caloric Surplus/Deficit', 'Weight Change (lbs)',\n",
            "       'Duration (weeks)', 'Physical Activity Level', 'Stress Level',\n",
            "       'Final Weight (lbs)', 'Sleep Quality_Fair', 'Sleep Quality_Good',\n",
            "       'Sleep Quality_Poor'],\n",
            "      dtype='object')\n"
          ]
        }
      ]
    },
    {
      "cell_type": "code",
      "source": [
        "print(data.dtypes)"
      ],
      "metadata": {
        "colab": {
          "base_uri": "https://localhost:8080/"
        },
        "id": "1Jm1ocGFuMUS",
        "outputId": "cd8ef601-cba1-41a9-8598-61c56acbdeff"
      },
      "execution_count": null,
      "outputs": [
        {
          "output_type": "stream",
          "name": "stdout",
          "text": [
            "Participant ID                     int64\n",
            "Age                                int64\n",
            "Gender                            object\n",
            "Current Weight (lbs)             float64\n",
            "BMR (Calories)                   float64\n",
            "Daily Calories Consumed          float64\n",
            "Daily Caloric Surplus/Deficit    float64\n",
            "Weight Change (lbs)              float64\n",
            "Duration (weeks)                   int64\n",
            "Physical Activity Level           object\n",
            "Stress Level                       int64\n",
            "Final Weight (lbs)               float64\n",
            "Sleep Quality_Fair                  bool\n",
            "Sleep Quality_Good                  bool\n",
            "Sleep Quality_Poor                  bool\n",
            "dtype: object\n"
          ]
        }
      ]
    },
    {
      "cell_type": "code",
      "source": [
        "# Chuyển đổi các cột 'bool' sang kiểu 'int' để đảm bảo tính nhất quán\n",
        "data['Sleep Quality_Fair'] = data['Sleep Quality_Fair'].astype(int)\n",
        "data['Sleep Quality_Good'] = data['Sleep Quality_Good'].astype(int)\n",
        "data['Sleep Quality_Poor'] = data['Sleep Quality_Poor'].astype(int)"
      ],
      "metadata": {
        "id": "03zsUVxHuoNj"
      },
      "execution_count": null,
      "outputs": []
    },
    {
      "cell_type": "code",
      "source": [
        "# Đặt biến phụ thuộc và biến độc lập\n",
        "y = data['Weight Change (lbs)']\n",
        "X = data[['Age', 'Sleep Quality_Fair', 'Sleep Quality_Good', 'Sleep Quality_Poor']]\n",
        "# Thêm hằng số cho mô hình hồi quy (intercept)\n",
        "X = sm.add_constant(X)\n",
        "\n",
        "# Xây dựng mô hình hồi quy tuyến tính\n",
        "model = sm.OLS(y, X).fit()\n",
        "\n",
        "# Hiển thị kết quả hồi quy\n",
        "print(model.summary())"
      ],
      "metadata": {
        "colab": {
          "base_uri": "https://localhost:8080/"
        },
        "id": "Rygrm0Um3AUq",
        "outputId": "8df0f533-7449-4247-af50-fd521219e786"
      },
      "execution_count": null,
      "outputs": [
        {
          "output_type": "stream",
          "name": "stdout",
          "text": [
            "                             OLS Regression Results                            \n",
            "===============================================================================\n",
            "Dep. Variable:     Weight Change (lbs)   R-squared:                       0.382\n",
            "Model:                             OLS   Adj. R-squared:                  0.356\n",
            "Method:                  Least Squares   F-statistic:                     14.70\n",
            "Date:                 Thu, 31 Oct 2024   Prob (F-statistic):           2.21e-09\n",
            "Time:                         13:58:09   Log-Likelihood:                -318.04\n",
            "No. Observations:                  100   AIC:                             646.1\n",
            "Df Residuals:                       95   BIC:                             659.1\n",
            "Df Model:                            4                                         \n",
            "Covariance Type:             nonrobust                                         \n",
            "======================================================================================\n",
            "                         coef    std err          t      P>|t|      [0.025      0.975]\n",
            "--------------------------------------------------------------------------------------\n",
            "const                  2.0050      2.636      0.761      0.449      -3.228       7.238\n",
            "Age                   -0.0183      0.050     -0.364      0.716      -0.118       0.082\n",
            "Sleep Quality_Fair    -0.8805      1.937     -0.455      0.650      -4.726       2.965\n",
            "Sleep Quality_Good    -0.4168      1.991     -0.209      0.835      -4.369       3.535\n",
            "Sleep Quality_Poor    -9.9640      1.819     -5.477      0.000     -13.575      -6.353\n",
            "==============================================================================\n",
            "Omnibus:                       60.347   Durbin-Watson:                   2.335\n",
            "Prob(Omnibus):                  0.000   Jarque-Bera (JB):              225.739\n",
            "Skew:                          -2.106   Prob(JB):                     9.58e-50\n",
            "Kurtosis:                       9.036   Cond. No.                         237.\n",
            "==============================================================================\n",
            "\n",
            "Notes:\n",
            "[1] Standard Errors assume that the covariance matrix of the errors is correctly specified.\n"
          ]
        }
      ]
    }
  ]
}